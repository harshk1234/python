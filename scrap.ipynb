{
  "nbformat": 4,
  "nbformat_minor": 0,
  "metadata": {
    "colab": {
      "name": "scrap.ipynb",
      "provenance": [],
      "authorship_tag": "ABX9TyPCSiEScMzgsOYEqQeTgWgi",
      "include_colab_link": true
    },
    "kernelspec": {
      "name": "python3",
      "display_name": "Python 3"
    },
    "language_info": {
      "name": "python"
    }
  },
  "cells": [
    {
      "cell_type": "markdown",
      "metadata": {
        "id": "view-in-github",
        "colab_type": "text"
      },
      "source": [
        "<a href=\"https://colab.research.google.com/github/harshk1234/python/blob/main/scrap.ipynb\" target=\"_parent\"><img src=\"https://colab.research.google.com/assets/colab-badge.svg\" alt=\"Open In Colab\"/></a>"
      ]
    },
    {
      "cell_type": "code",
      "source": [
        "!pip install AutoScraper"
      ],
      "metadata": {
        "colab": {
          "base_uri": "https://localhost:8080/"
        },
        "id": "dkYXWXGZ6k-2",
        "outputId": "45402923-5cf2-4279-a0dd-0f782e4c89b2"
      },
      "execution_count": null,
      "outputs": [
        {
          "output_type": "stream",
          "name": "stdout",
          "text": [
            "Collecting AutoScraper\n",
            "  Downloading autoscraper-1.1.12-py3-none-any.whl (10 kB)\n",
            "Requirement already satisfied: requests in /usr/local/lib/python3.7/dist-packages (from AutoScraper) (2.23.0)\n",
            "Requirement already satisfied: bs4 in /usr/local/lib/python3.7/dist-packages (from AutoScraper) (0.0.1)\n",
            "Requirement already satisfied: lxml in /usr/local/lib/python3.7/dist-packages (from AutoScraper) (4.2.6)\n",
            "Requirement already satisfied: beautifulsoup4 in /usr/local/lib/python3.7/dist-packages (from bs4->AutoScraper) (4.6.3)\n",
            "Requirement already satisfied: idna<3,>=2.5 in /usr/local/lib/python3.7/dist-packages (from requests->AutoScraper) (2.10)\n",
            "Requirement already satisfied: chardet<4,>=3.0.2 in /usr/local/lib/python3.7/dist-packages (from requests->AutoScraper) (3.0.4)\n",
            "Requirement already satisfied: urllib3!=1.25.0,!=1.25.1,<1.26,>=1.21.1 in /usr/local/lib/python3.7/dist-packages (from requests->AutoScraper) (1.24.3)\n",
            "Requirement already satisfied: certifi>=2017.4.17 in /usr/local/lib/python3.7/dist-packages (from requests->AutoScraper) (2021.10.8)\n",
            "Installing collected packages: AutoScraper\n",
            "Successfully installed AutoScraper-1.1.12\n"
          ]
        }
      ]
    },
    {
      "cell_type": "code",
      "source": [
        "from autoscraper import AutoScraper"
      ],
      "metadata": {
        "id": "62aFpUNu6lUC"
      },
      "execution_count": null,
      "outputs": []
    },
    {
      "cell_type": "code",
      "source": [
        "url = 'https://www.glassdoor.co.in/Reviews/Wipro-Reviews-E9936.htm'"
      ],
      "metadata": {
        "id": "V1bv8i8I6l6o"
      },
      "execution_count": null,
      "outputs": []
    },
    {
      "cell_type": "code",
      "source": [
        "import autoscraper\n",
        "wanted_list= [\"5.0\",\"Good place to work\"]\n",
        "scraper = AutoScraper()\n",
        "result=scraper.build(url, wanted_list)\n",
        "print(result)"
      ],
      "metadata": {
        "colab": {
          "base_uri": "https://localhost:8080/"
        },
        "id": "iqtd-1nV6mPy",
        "outputId": "0c44dfb3-665d-4eeb-f524-31129fe7fc25"
      },
      "execution_count": null,
      "outputs": [
        {
          "output_type": "stream",
          "name": "stdout",
          "text": [
            "['5.0', '4.0', 'Good place to work', 'work environment is great', 'Great atmosphere', 'Good company to work at', 'Nice work location', 'Good company', 'Typical Indian MNC', 'Good work life balance', 'Salary', 'Great company to work with']\n"
          ]
        }
      ]
    },
    {
      "cell_type": "code",
      "source": [
        "scraper.get_result_similar(\"https://www.glassdoor.co.in/Reviews/Wipro-Reviews-E9936.htm\",grouped=True)"
      ],
      "metadata": {
        "colab": {
          "base_uri": "https://localhost:8080/"
        },
        "id": "Ha7arpqj6mow",
        "outputId": "da44a37a-8507-4b62-ec0f-9b37ab936ba0"
      },
      "execution_count": null,
      "outputs": [
        {
          "output_type": "execute_result",
          "data": {
            "text/plain": [
              "{'rule_1wv8': ['5.0',\n",
              "  '5.0',\n",
              "  '5.0',\n",
              "  '5.0',\n",
              "  '5.0',\n",
              "  '5.0',\n",
              "  '5.0',\n",
              "  '4.0',\n",
              "  '4.0',\n",
              "  '4.0'],\n",
              " 'rule_2lh2': ['5.0',\n",
              "  '5.0',\n",
              "  '5.0',\n",
              "  '5.0',\n",
              "  '5.0',\n",
              "  '5.0',\n",
              "  '5.0',\n",
              "  '4.0',\n",
              "  '4.0',\n",
              "  '4.0'],\n",
              " 'rule_4zs5': ['5.0',\n",
              "  '5.0',\n",
              "  '5.0',\n",
              "  '5.0',\n",
              "  '5.0',\n",
              "  '5.0',\n",
              "  '5.0',\n",
              "  '4.0',\n",
              "  '4.0',\n",
              "  '4.0'],\n",
              " 'rule_afb3': ['5.0',\n",
              "  '5.0',\n",
              "  '5.0',\n",
              "  '5.0',\n",
              "  '5.0',\n",
              "  '5.0',\n",
              "  '5.0',\n",
              "  '4.0',\n",
              "  '4.0',\n",
              "  '4.0'],\n",
              " 'rule_liek': ['5.0',\n",
              "  '5.0',\n",
              "  '5.0',\n",
              "  '5.0',\n",
              "  '5.0',\n",
              "  '5.0',\n",
              "  '5.0',\n",
              "  '4.0',\n",
              "  '4.0',\n",
              "  '4.0'],\n",
              " 'rule_nh1j': ['Good place to work',\n",
              "  'work environment is great',\n",
              "  'Great atmosphere',\n",
              "  'Good company to work at',\n",
              "  'Nice work location',\n",
              "  'Good company',\n",
              "  'Typical Indian MNC',\n",
              "  'Good work life balance',\n",
              "  'Salary',\n",
              "  'Great company to work with'],\n",
              " 'rule_px5a': ['5.0',\n",
              "  '5.0',\n",
              "  '5.0',\n",
              "  '5.0',\n",
              "  '5.0',\n",
              "  '5.0',\n",
              "  '5.0',\n",
              "  '4.0',\n",
              "  '4.0',\n",
              "  '4.0'],\n",
              " 'rule_yia9': ['5.0',\n",
              "  '5.0',\n",
              "  '5.0',\n",
              "  '5.0',\n",
              "  '5.0',\n",
              "  '5.0',\n",
              "  '5.0',\n",
              "  '4.0',\n",
              "  '4.0',\n",
              "  '4.0']}"
            ]
          },
          "metadata": {},
          "execution_count": 9
        }
      ]
    },
    {
      "cell_type": "code",
      "source": [
        "scraper.set_rule_aliases({'rule_nh1j': 'comment', 'rule_1wv8':'reating'})\n",
        "scraper.keep_rules([])"
      ],
      "metadata": {
        "id": "Hp5mnc9aBEOc"
      },
      "execution_count": null,
      "outputs": []
    },
    {
      "cell_type": "code",
      "source": [
        ""
      ],
      "metadata": {
        "id": "qiS2P5gZ68Ba"
      },
      "execution_count": null,
      "outputs": []
    }
  ]
}