{
  "nbformat": 4,
  "nbformat_minor": 0,
  "metadata": {
    "colab": {
      "name": "Untitled5.ipynb",
      "provenance": [],
      "authorship_tag": "ABX9TyPaJyuYNARviVqJcp0+jdrj",
      "include_colab_link": true
    },
    "kernelspec": {
      "name": "python3",
      "display_name": "Python 3"
    },
    "language_info": {
      "name": "python"
    }
  },
  "cells": [
    {
      "cell_type": "markdown",
      "metadata": {
        "id": "view-in-github",
        "colab_type": "text"
      },
      "source": [
        "<a href=\"https://colab.research.google.com/github/harshk1234/python/blob/main/Untitled5.ipynb\" target=\"_parent\"><img src=\"https://colab.research.google.com/assets/colab-badge.svg\" alt=\"Open In Colab\"/></a>"
      ]
    },
    {
      "cell_type": "code",
      "execution_count": null,
      "metadata": {
        "id": "1g9cc2v1CScZ"
      },
      "outputs": [],
      "source": [
        "#IF statmenet\n",
        "val=input('enter the no')\n",
        "value_float=float(val)\n",
        "print(value_float)"
      ]
    },
    {
      "cell_type": "code",
      "source": [
        "#odd even\n",
        "if(value_float==10%)\n",
        "  print(\"no is even\")\n",
        "else\n",
        "  print(\"no is odd\")  "
      ],
      "metadata": {
        "id": "2QIk6LtSFtNo"
      },
      "execution_count": null,
      "outputs": []
    },
    {
      "cell_type": "code",
      "source": [
        "#age condition nested\n",
        "age =float(input(\"enter the age\"))\n",
        "\n",
        "if(age<18):\n",
        "  print(\"minnor age\")\n",
        "\n",
        "  elif(age>18 and age<30):\n",
        "     print(\"mid age\")\n",
        "   elif(age>45 and age<=50):  \n",
        "\n",
        "   else\n",
        "   print(\"senior citizen\")  "
      ],
      "metadata": {
        "id": "dqUPp1nmHB_G"
      },
      "execution_count": null,
      "outputs": []
    },
    {
      "cell_type": "code",
      "source": [
        ""
      ],
      "metadata": {
        "id": "FHxUl1EyHUVU"
      },
      "execution_count": null,
      "outputs": []
    }
  ]
}